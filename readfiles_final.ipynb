{
 "cells": [
  {
   "cell_type": "code",
   "execution_count": 1,
   "metadata": {},
   "outputs": [],
   "source": [
    "import numpy\n",
    "import scipy.io.wavfile\n",
    "import matplotlib.pyplot as plt\n",
    "import glob"
   ]
  },
  {
   "cell_type": "code",
   "execution_count": null,
   "metadata": {},
   "outputs": [],
   "source": [
    "root_path = str(input(\"enter the path of root directory\"))\n",
    "folder_path_list = list(glob.glob(str(root_path+\"/*/\")))"
   ]
  },
  {
   "cell_type": "code",
   "execution_count": null,
   "metadata": {},
   "outputs": [],
   "source": [
    "folder_list"
   ]
  },
  {
   "cell_type": "code",
   "execution_count": null,
   "metadata": {},
   "outputs": [],
   "source": [
    "for i in folder_list:\n",
    "    sampleaudio_path_list = list(glob.glob(str(folder_list+\"/*.wav\")))\n",
    "    for i in range(0,len(sampleaudio_path_list)):\n",
    "        sample_rate, signal = scipy.io.wavfile.read(sampleaudio_path_list[i])  # File assumed to be in the same directory\n",
    "        functnction_of_signal(samplerate,signal) # the function which does all the computation for all the audio files.\n",
    "        \n",
    "    #code followes here....\n",
    "    pass"
   ]
  }
 ],
 "metadata": {
  "kernelspec": {
   "display_name": "Python 3",
   "language": "python",
   "name": "python3"
  },
  "language_info": {
   "codemirror_mode": {
    "name": "ipython",
    "version": 3
   },
   "file_extension": ".py",
   "mimetype": "text/x-python",
   "name": "python",
   "nbconvert_exporter": "python",
   "pygments_lexer": "ipython3",
   "version": "3.6.1"
  }
 },
 "nbformat": 4,
 "nbformat_minor": 2
}
