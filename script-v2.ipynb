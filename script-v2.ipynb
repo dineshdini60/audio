{
 "cells": [
  {
   "cell_type": "code",
   "execution_count": 2,
   "metadata": {},
   "outputs": [],
   "source": [
    "from scipy.fftpack import dct\n",
    "import numpy as np\n",
    "import scipy.io.wavfile\n",
    "import matplotlib.pyplot as plt\n",
    "import glob\n",
    "import numpy as np\n",
    "import scipy.io.wavfile\n",
    "from scipy.fftpack import dct\n",
    "from scipy.signal import savgol_filter\n",
    "from PyEMD import EMD\n",
    "import pywt\n",
    "from scipy.signal import hilbert\n",
    "import matplotlib.pyplot as plt\n",
    "from matplotlib.pyplot import plot"
   ]
  },
  {
   "cell_type": "code",
   "execution_count": null,
   "metadata": {},
   "outputs": [],
   "source": [
    "root_path = str(input(\"enter the path of root directory\"))\n",
    "folder_path_list = list(glob.glob(str(root_path+\"/*/\")))"
   ]
  },
  {
   "cell_type": "code",
   "execution_count": null,
   "metadata": {},
   "outputs": [],
   "source": [
    "folder_list"
   ]
  },
  {
   "cell_type": "code",
   "execution_count": 1,
   "metadata": {},
   "outputs": [],
   "source": [
    "def pre_processing(sample_rate,signal):\n",
    "    ##### Pre-Emphasis\n",
    "    #set filter coefficient for pre-emphasis  filter coefficient (α) \n",
    "    pre_emphasis = 0.97 #typical value need to be set                                                 **\n",
    "    \n",
    "    emphasized_signal = numpy.append(signal[0], signal[1:] - pre_emphasis * signal[:-1])\n",
    "    \n",
    "    ##### sav_gol filter                                                                               **\n",
    "    #link:- https://docs.scipy.org/doc/scipy-0.16.1/reference/generated/scipy.signal.savgol_filter.html\n",
    "    np.set_printoptions(precision=2)  # For compact display.\n",
    "    after_savgol_signal = savgol_filter(emphasized_signal, 5, 2, mode = 'nearest')\n",
    "    # 5 is the window length and 2 is the polynomial degree \n",
    "    \n",
    "    \n",
    "    ##### emd\n",
    "    #link :- https://github.com/laszukdawid/PyEMD\n",
    "    emd = EMD()        #basic emd\n",
    "    imfs = emd(after_savgol_signal)\n",
    "    \n",
    "    \n",
    "    frames_list = list()\n",
    "    for i in imfs:\n",
    "        \"\"\"\n",
    "        #### Framing\n",
    "        #Typical frame sizes in speech processing range from 20 ms to 40 ms \n",
    "        #with 50% (+/-10%) overlap between consecutive frames. \n",
    "        #Popular settings are 25 ms for the frame size,  and a 10 ms stride (15 ms overlap), \n",
    "        #link :- https://haythamfayek.com/2016/04/21/speech-processing-for-machine-learning.html\n",
    "        frame_size = 0.025\n",
    "        frame_stride = 0.01\n",
    "        frame_length, frame_step = frame_size * sample_rate, frame_stride * sample_rate  # Convert from seconds to samples\n",
    "        signal_length = len(i)\n",
    "        frame_length = int(round(frame_length))\n",
    "        frame_step = int(round(frame_step))\n",
    "        num_frames = int(numpy.ceil(float(numpy.abs(signal_length - frame_length)) / frame_step))  # Make sure that we have at least 1 frame\n",
    "\n",
    "        pad_signal_length = num_frames * frame_step + frame_length\n",
    "        z = numpy.zeros((pad_signal_length - signal_length))\n",
    "        pad_signal = numpy.append(i, z) # Pad Signal to make sure that all frames have equal number of samples without truncating any samples from the original signal\n",
    "\n",
    "        indices = numpy.tile(numpy.arange(0, frame_length), (num_frames, 1)) + numpy.tile(numpy.arange(0, num_frames * frame_step, frame_step), (frame_length, 1)).T\n",
    "        frames = pad_signal[indices.astype(numpy.int32, copy=False)]\n",
    "        \"\"\"\n",
    "        max_pcc = 0\n",
    "        coef = np.corrcoef(signal, i)[0, 1]\n",
    "        if(coef > max_pcc):\n",
    "            max_pcc = coef\n",
    "            max_imf = i\n",
    "    #thresholding https://pywavelets.readthedocs.io/en/latest/ref/thresholding-functions.html\n",
    "    pywt.threshold(max_imf, 2, 'soft')\n",
    "    \n",
    "            \n",
    "    return frames_list,imfs\n",
    "    \n",
    "        ######\n",
    "        \n",
    "        \n",
    "    \n",
    "    "
   ]
  },
  {
   "cell_type": "code",
   "execution_count": null,
   "metadata": {},
   "outputs": [],
   "source": []
  },
  {
   "cell_type": "code",
   "execution_count": 2,
   "metadata": {},
   "outputs": [],
   "source": [
    "def gp1(imfs):\n",
    "    insta_amp_list = list()\n",
    "    insta_freq_list = list()\n",
    "    for i in imfs:\n",
    "        ### hilbert transform\n",
    "        # https://docs.scipy.org/doc/scipy/reference/generated/scipy.signal.hilbert.html\n",
    "        # https://dsp.stackexchange.com/questions/46291/why-is-scipy-implementation-of-hilbert-function-different-from-matlab-implemen\n",
    "        #post_hibert = hilbert(i)\n",
    "        analytic_signal = hilbert(i)\n",
    "        amplitude_envelope = np.abs(analytic_signal)\n",
    "        instantaneous_phase = np.unwrap(np.angle(analytic_signal))\n",
    "        instantaneous_frequency = (np.diff(instantaneous_phase) /(2.0*np.pi) * fs)\n",
    "        insta_amp_list.append(amplitude_envelope[:13]) \n",
    "        insta_freq_list.append(instantaneous_frequency[:13])\n",
    "        \n",
    "        #task 2 hilbert spectrum\n",
    "        sensor = np.loadtxt('signal.txt')\n",
    "        plt.plot(sensor)\n",
    "\n",
    "        index = 1\n",
    "        plt.plot(analytical_signal.real)\n",
    "        plt.plot(analytical_signal.imag)\n",
    "        plt.plot(amplitude_envelope)\n",
    "        file_name = str(index)+\"imf_spectrum\"\n",
    "        plt.savefig(file_name)\n",
    "        index = index +1\n",
    "        return insta_amp_list,insta_freq_list"
   ]
  },
  {
   "cell_type": "code",
   "execution_count": null,
   "metadata": {},
   "outputs": [],
   "source": [
    "\n",
    "\n",
    "def gp2(imfs):\n",
    "    \n",
    "    ##### DCT\n",
    "    # https://docs.scipy.org/doc/scipy-0.14.0/reference/generated/scipy.fftpack.dct.html\n",
    "    after_dct = dct(i)\n",
    "    first_13 = after_dct[0:13]\n",
    "    first_diff = np.diff(first_13,1)\n",
    "    second_diff = np.diff(first_13,2)\n",
    "    return first_diff,second_diff"
   ]
  },
  {
   "cell_type": "code",
   "execution_count": null,
   "metadata": {},
   "outputs": [],
   "source": []
  },
  {
   "cell_type": "code",
   "execution_count": null,
   "metadata": {},
   "outputs": [],
   "source": [
    "for i in folder_list:\n",
    "    sampleaudio_path_list = list(glob.glob(str(folder_list+\"/*.wav\")))\n",
    "    for i in range(0,len(sampleaudio_path_list)):\n",
    "        sample_rate, signal = scipy.io.wavfile.read(sampleaudio_path_list[i])  # File assumed to be in the same directory\n",
    "        frames,imfs = pre_processing(samplerate,signal) \n",
    "        final_list = list()\n",
    "        for i in imfs:\n",
    "            insta_amp_i, insta_freq_i = gp1(i)\n",
    "            first_diff_i,second_diff_i = gp2(i)\n",
    "            combined_vector = insta_amp_i+insta_freq_i+first_diff_i+second_diff_i \n",
    "            final_list.append(combined_vector)\n",
    "        \n",
    "        \n",
    "    #code followes here....\n",
    "    pass"
   ]
  }
 ],
 "metadata": {
  "kernelspec": {
   "display_name": "Python 3",
   "language": "python",
   "name": "python3"
  },
  "language_info": {
   "codemirror_mode": {
    "name": "ipython",
    "version": 3
   },
   "file_extension": ".py",
   "mimetype": "text/x-python",
   "name": "python",
   "nbconvert_exporter": "python",
   "pygments_lexer": "ipython3",
   "version": "3.6.1"
  }
 },
 "nbformat": 4,
 "nbformat_minor": 2
}
